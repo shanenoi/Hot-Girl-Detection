{
 "cells": [
  {
   "cell_type": "markdown",
   "metadata": {
    "colab_type": "text",
    "id": "JJy-kGKMwnHn"
   },
   "source": [
    "# YOLO split faces in each picture and OpenCV reshape image to fixed size"
   ]
  },
  {
   "cell_type": "markdown",
   "metadata": {
    "colab_type": "text",
    "id": "kCfp8etgydf9"
   },
   "source": [
    "## Splitting Faces [(Repo 1](https://github.com/sthanhng/yoloface), [Repo 2)](https://github.com/thangnch/yolo_beginner)"
   ]
  },
  {
   "cell_type": "code",
   "execution_count": null,
   "metadata": {
    "colab": {},
    "colab_type": "code",
    "id": "NwIITYJLKOgE"
   },
   "outputs": [],
   "source": [
    "# IMPORT LIB\n",
    "\n",
    "import cv2\n",
    "import numpy as np\n",
    "import requests as req"
   ]
  },
  {
   "cell_type": "code",
   "execution_count": null,
   "metadata": {
    "colab": {},
    "colab_type": "code",
    "id": "HkuIss_wUnc8"
   },
   "outputs": [],
   "source": [
    "IMAGE = \"/home/shanenoi/Pictures/bo-anh-cuoi-tuyet-dep-tai-hien-sai-gon-nhung-nam-80-38-.1946.jpg\""
   ]
  },
  {
   "cell_type": "code",
   "execution_count": null,
   "metadata": {
    "colab": {},
    "colab_type": "code",
    "id": "InUfUhFnVbFL"
   },
   "outputs": [],
   "source": [
    "class FaceSplitting(object):\n",
    "\n",
    "    CONFIG = \"/media/shanenoi/WINDOWS <-> LINUX/Hot-Girl-Detection/yoloface-master/cfg/yolov3-face.cfg\"\n",
    "    WEIGHTS = \"/media/shanenoi/WINDOWS <-> LINUX/Hot-Girl-Detection/yoloface-master/model-weights/yolov3-wider_16000.weights\"\n",
    "    SCALE = 0.00392\n",
    "    CONF_THRESHOLD = 0.5\n",
    "    NMS_THRESHOLD = 0.4\n",
    "\n",
    "    def __init__(self):\n",
    "        self.image = None\n",
    "        self.confidences = []\n",
    "        self.boxes = []\n",
    "\n",
    "    def load_config(self) -> None:\n",
    "        self.net = cv2.dnn.readNet(self.WEIGHTS, self.CONFIG)\n",
    "\n",
    "    def load_image(self, image) -> None:\n",
    "        self.image = cv2.imread(image)\n",
    "        self.blob = cv2.dnn.blobFromImage(self.image, self.SCALE, (416, 416), (0, 0, 0), True, crop=False)\n",
    "        self.net.setInput(self.blob)\n",
    "\n",
    "    def splitting(self) -> list:\n",
    "        outs = self.net.forward(self.get_output_layers(self.net))\n",
    "        Width = self.image.shape[1]\n",
    "        Height = self.image.shape[0]\n",
    "\n",
    "        for out in outs:\n",
    "            for detection in out:\n",
    "                scores = detection[5:]\n",
    "                class_id = np.argmax(scores)\n",
    "                confidence = scores[class_id]\n",
    "                if confidence > 0.5:\n",
    "                    center_x = int(detection[0] * Width)\n",
    "                    center_y = int(detection[1] * Height)\n",
    "                    w = int(detection[2] * Width)\n",
    "                    h = int(detection[3] * Height)\n",
    "                    x = center_x - w / 2\n",
    "                    y = center_y - h / 2\n",
    "                    self.confidences.append(float(confidence))\n",
    "                    self.boxes.append([x, y, w, h])\n",
    "\n",
    "        indices = cv2.dnn.NMSBoxes(self.boxes, self.confidences, self.CONF_THRESHOLD, self.NMS_THRESHOLD)\n",
    "\n",
    "        for i in indices:\n",
    "            i = i[0]\n",
    "            box = self.boxes[i]\n",
    "            x = box[0]\n",
    "            y = box[1]\n",
    "            w = box[2]\n",
    "            h = box[3]\n",
    "            yield {\n",
    "                'x': round(x),\n",
    "                'y': round(y),\n",
    "                'x+w': round(x+w),\n",
    "                'y+h': round(y+h)\n",
    "            }\n",
    "\n",
    "    @staticmethod\n",
    "    def get_output_layers(net) -> list:\n",
    "        layer_names = net.getLayerNames()\n",
    "        output_layers = [layer_names[i[0] - 1] for i in net.getUnconnectedOutLayers()]\n",
    "        print(type(output_layers))\n",
    "        return output_layers"
   ]
  }
 ],
 "metadata": {
  "colab": {
   "authorship_tag": "ABX9TyPbdkmXDabbJ9ywAXSTQZ0c",
   "collapsed_sections": [],
   "name": "Hot-Girl-Detection.ipynb",
   "provenance": [],
   "toc_visible": true
  },
  "kernelspec": {
   "display_name": "Python 3",
   "language": "python",
   "name": "python3"
  },
  "language_info": {
   "codemirror_mode": {
    "name": "ipython",
    "version": 3
   },
   "file_extension": ".py",
   "mimetype": "text/x-python",
   "name": "python",
   "nbconvert_exporter": "python",
   "pygments_lexer": "ipython3",
   "version": "3.8.2"
  }
 },
 "nbformat": 4,
 "nbformat_minor": 4
}
