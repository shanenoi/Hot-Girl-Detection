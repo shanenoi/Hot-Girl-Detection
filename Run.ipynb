{
 "cells": [
  {
   "cell_type": "code",
   "execution_count": 1,
   "metadata": {
    "colab": {},
    "colab_type": "code",
    "id": "xODq2RTJoivz"
   },
   "outputs": [],
   "source": [
    "from lib_supporter.db_management_libs import *\n",
    "from lib_supporter.lib_other import *\n",
    "from os import mkdir, getcwd\n",
    "from selenium import webdriver\n",
    "from webdriver_manager.chrome import ChromeDriverManager\n",
    "\n",
    "import re\n",
    "import time"
   ]
  },
  {
   "cell_type": "code",
   "execution_count": 2,
   "metadata": {
    "colab": {},
    "colab_type": "code",
    "id": "Qh6ngfQ9oiv_"
   },
   "outputs": [],
   "source": [
    "user_account = {\n",
    "    \"email\": \"automail.robort@yandex.com\",\n",
    "    \"pass\": \"fGwk093oiVtdJPuc8z2wtFjGcvzSi6eonkvWTjZa8glIE6uYJdvLTJv9dJWJVDgMy68Bozma3kKGkWDw\"\n",
    "}"
   ]
  },
  {
   "cell_type": "code",
   "execution_count": 3,
   "metadata": {
    "colab": {},
    "colab_type": "code",
    "id": "iAb7qJ95oiwG"
   },
   "outputs": [],
   "source": [
    "dataset_folder = \"./dataset\"\n",
    "\n",
    "def init_folder(name, specified_folder:str=\".\") -> str:\n",
    "    path = f'{getcwd()}/{specified_folder}/{name}'\n",
    "    # print(path)\n",
    "    try:\n",
    "        mkdir(path)\n",
    "    finally:\n",
    "        return path\n",
    "\n",
    "temp = init_folder('temp_00', dataset_folder)\n",
    "users_folder = init_folder('storage', dataset_folder)\n",
    "users_images = init_folder('images', dataset_folder)"
   ]
  },
  {
   "cell_type": "code",
   "execution_count": 4,
   "metadata": {
    "colab": {},
    "colab_type": "code",
    "id": "pp-7WvxaoiwM"
   },
   "outputs": [],
   "source": [
    "options = webdriver.ChromeOptions()\n",
    "options.add_experimental_option(\"prefs\", { \n",
    "    \"profile.default_content_setting_values.notifications\": 1 \n",
    "})"
   ]
  },
  {
   "cell_type": "code",
   "execution_count": 5,
   "metadata": {
    "colab": {},
    "colab_type": "code",
    "id": "VLnm6OgxoiwQ"
   },
   "outputs": [
    {
     "output_type": "stream",
     "name": "stderr",
     "text": "[WDM] - Cache is valid for [13/06/2020]\n[WDM] - Looking for [chromedriver 83.0.4103.39 linux64] driver in cache \n[WDM] - Driver found in cache [/home/shane/.wdm/drivers/chromedriver/83.0.4103.39/linux64/chromedriver]\n \n"
    }
   ],
   "source": [
    "driver = webdriver.Chrome(\n",
    "    chrome_options=options,\n",
    "    executable_path=ChromeDriverManager().install()\n",
    ")"
   ]
  },
  {
   "cell_type": "code",
   "execution_count": 6,
   "metadata": {
    "colab": {},
    "colab_type": "code",
    "id": "mmnCb4kKoiwT"
   },
   "outputs": [],
   "source": [
    "web_ctrl = WebControl(driver)"
   ]
  },
  {
   "cell_type": "code",
   "execution_count": 7,
   "metadata": {
    "colab": {},
    "colab_type": "code",
    "id": "95dULH6xoiwW"
   },
   "outputs": [],
   "source": [
    "# Login\n",
    "web_ctrl.driver.get('https://facebook.com')\n",
    "\n",
    "mail_holder = web_ctrl.driver.find_element_by_id('email')\n",
    "mail_holder.clear()\n",
    "mail_holder.send_keys(user_account['email'])\n",
    "\n",
    "pass_holder = web_ctrl.driver.find_element_by_id('pass')\n",
    "pass_holder.clear()\n",
    "pass_holder.send_keys(user_account['pass'])\n",
    "\n",
    "web_ctrl.driver.find_element_by_id('u_0_b').click()"
   ]
  },
  {
   "cell_type": "code",
   "execution_count": 8,
   "metadata": {
    "colab": {},
    "colab_type": "code",
    "id": "A3LbGq5Yoiwh"
   },
   "outputs": [],
   "source": [
    "current_task = CurrentTask('create_db_and_download_images')\n",
    "current_task.source(f'{temp}/user')"
   ]
  },
  {
   "cell_type": "code",
   "execution_count": 9,
   "metadata": {
    "colab": {},
    "colab_type": "code",
    "id": "nQRFxWNWoiwk"
   },
   "outputs": [],
   "source": [
    "sql = SQL\n",
    "DB_ARCHITECTURE = {\n",
    "    \"images\": {\n",
    "        \"images\": [\n",
    "            # internal path\n",
    "            sql.TYPE_TEXT\n",
    "        ],\n",
    "        \"faces\": [\n",
    "            # this field will content faces and its id.\n",
    "            # x0;y0;x0+w0;y0+h0:id1|x1;y1;x1+w1;y1+h1:id2 ....\n",
    "            sql.TYPE_TEXT\n",
    "        ],\n",
    "        \"result\": [\n",
    "            # this field will content faces id and gender, beauty classified\n",
    "            # male:id1;id2;id3|female_1:id4;id5;id6|female_1:id7;id8;id9\n",
    "            sql.TYPE_TEXT\n",
    "        ]\n",
    "    },\n",
    "    \"friends\": {\n",
    "        \"friends\": [\n",
    "            sql.TYPE_TEXT\n",
    "        ],\n",
    "    }\n",
    "    \n",
    "}"
   ]
  },
  {
   "cell_type": "code",
   "execution_count": 10,
   "metadata": {
    "colab": {},
    "colab_type": "code",
    "id": "BtdMv96Ooiwm"
   },
   "outputs": [],
   "source": [
    "class Pers(object):\n",
    "    \n",
    "    def __init__(self, web_control, user_id):\n",
    "        self.user_db = DataBase(f'{users_folder}/{user_id}.db')\n",
    "        self.user_id = user_id\n",
    "        self.web_ctrl = web_control\n",
    "        self.web_ctrl.driver.get(f'https://facebook.com/{user_id}')\n",
    "    \n",
    "    def get_user_name(self):\n",
    "        return self.web_ctrl.driver.execute_script(\n",
    "            CrawlingJs\\\n",
    "            .convert_jsScript(\n",
    "                CrawlingJs\\\n",
    "                .crawling_by_js['user_name']\n",
    "            )\n",
    "        )\n",
    "    \n",
    "    def load_more(self):\n",
    "        self.web_ctrl.driver.execute_script(\n",
    "            CrawlingJs\\\n",
    "            .convert_jsScript(\n",
    "                CrawlingJs\\\n",
    "                .crawling_by_js['scroll_to_the_end_of_page']\n",
    "            )\n",
    "        )\n",
    "        \n",
    "    @staticmethod\n",
    "    def get_image_name_and_size(url: str) -> list:\n",
    "        full_url = re.findall('(https://[^()]+)', url)[0]\n",
    "        result = re.findall('(\\d+x\\d+)|(\\w+.jpg)',full_url)\n",
    "        return [\n",
    "            f'{result[0][0]}__{result[1][1]}',\n",
    "            full_url\n",
    "        ]\n",
    "    \n",
    "    @staticmethod\n",
    "    def get_friend_name(url: str) -> str:\n",
    "        return re.findall(\n",
    "            'https://www.facebook.com/((profile\\.php\\?id=\\d+)|([^/?]+))',\n",
    "            url\n",
    "        )[0][0]\n",
    "        \n",
    "    def get_list_friends(self):\n",
    "        return map(\n",
    "            self.get_friend_name,\n",
    "            self.web_ctrl.driver.execute_script(\n",
    "                CrawlingJs\\\n",
    "                .convert_jsScript(\n",
    "                    CrawlingJs\\\n",
    "                    .crawling_by_js['list_friends']\n",
    "                )\n",
    "            )\n",
    "        )\n",
    "    \n",
    "    def get_list_images(self):\n",
    "        return map(\n",
    "            self.download_image,\n",
    "            self.web_ctrl.driver.execute_script(\n",
    "                CrawlingJs\\\n",
    "                .convert_jsScript(\n",
    "                    CrawlingJs\\\n",
    "                    .crawling_by_js['list_images']\n",
    "                )\n",
    "            )\n",
    "        )\n",
    "    \n",
    "    def download_image(self, url):\n",
    "        values = self.get_image_name_and_size(url)\n",
    "        internal_path = f'{users_images}/{values[0]}'\n",
    "        if not current_task.isdone(values[0]):\n",
    "            with open(internal_path, 'wb') as imf:\n",
    "                imf.write(self.web_ctrl.get_content(values[1]))\n",
    "            current_task.add(values[0])\n",
    "        else:\n",
    "            print(f\"[+] {values[0]} was downloaded!\")\n",
    "        return internal_path\n",
    "    \n",
    "    def create_userdb(self):\n",
    "        if not current_task.isdone(self.user_id):\n",
    "            for table in DB_ARCHITECTURE.keys():\n",
    "                self.user_db.create_table(\n",
    "                    name=table,\n",
    "                    architecture=DB_ARCHITECTURE[table]\n",
    "                )\n",
    "            current_task.add(self.user_id)\n",
    "        else:\n",
    "            print(f\"[+] {self.user_id} was created!\")\n",
    "        # because this function will return generator\n",
    "        list(self.user_db.run())\n",
    "            \n",
    "    def save(self, n_friends:int = 0, n_images: int = 0):\n",
    "        \"\"\"\n",
    "        [+] n_friends: the number of scrolling to the bottom of friends page\n",
    "        [+] n_images: the number of scrolling to the bottom of images page\n",
    "        \"\"\"\n",
    "        self.web_ctrl.driver.execute_script(\n",
    "                CrawlingJs\\\n",
    "                .convert_jsScript(\n",
    "                    CrawlingJs\\\n",
    "                    .crawling_by_js['friends']\n",
    "                )\n",
    "        )\n",
    "        current = self.web_ctrl.driver.execute_script(\n",
    "                CrawlingJs\\\n",
    "                .convert_jsScript(\n",
    "                    CrawlingJs\\\n",
    "                    .crawling_by_js['length_page']\n",
    "                )\n",
    "        )\n",
    "        for i in range(n_friends):\n",
    "            while (self.web_ctrl.driver.execute_script(\n",
    "                    CrawlingJs\\\n",
    "                    .convert_jsScript(\n",
    "                        CrawlingJs\\\n",
    "                        .crawling_by_js['length_page']\n",
    "                    )\n",
    "            ) == current):\n",
    "                self.web_ctrl.driver.execute_script(\n",
    "                    CrawlingJs\\\n",
    "                    .convert_jsScript(\n",
    "                        CrawlingJs\\\n",
    "                        .crawling_by_js['scroll_to_the_end_of_page']\n",
    "                    )\n",
    "                )\n",
    "                current = self.web_ctrl.driver.execute_script(\n",
    "                    CrawlingJs\\\n",
    "                    .convert_jsScript(\n",
    "                        CrawlingJs\\\n",
    "                        .crawling_by_js['length_page']\n",
    "                    )\n",
    "                )\n",
    "        friends = list(self.get_list_friends())\n",
    "        self.web_ctrl.driver.execute_script(\n",
    "            \"console.log('hello');\"\n",
    "        )\n",
    "        time.sleep(3)\n",
    "        \n",
    "        self.web_ctrl.driver.execute_script(\n",
    "                CrawlingJs\\\n",
    "                .convert_jsScript(\n",
    "                    CrawlingJs\\\n",
    "                    .crawling_by_js['images']\n",
    "                )\n",
    "        )\n",
    "        current = self.web_ctrl.driver.execute_script(\n",
    "                CrawlingJs\\\n",
    "                .convert_jsScript(\n",
    "                    CrawlingJs\\\n",
    "                    .crawling_by_js['length_page']\n",
    "                )\n",
    "        )\n",
    "        for i in range(n_images):\n",
    "            while (self.web_ctrl.driver.execute_script(\n",
    "                    CrawlingJs\\\n",
    "                    .convert_jsScript(\n",
    "                        CrawlingJs\\\n",
    "                        .crawling_by_js['length_page']\n",
    "                    )\n",
    "            ) == current):\n",
    "                self.web_ctrl.driver.execute_script(\n",
    "                    CrawlingJs\\\n",
    "                    .convert_jsScript(\n",
    "                        CrawlingJs\\\n",
    "                        .crawling_by_js['scroll_to_the_end_of_page']\n",
    "                    )\n",
    "                )\n",
    "                current = self.web_ctrl.driver.execute_script(\n",
    "                    CrawlingJs\\\n",
    "                    .convert_jsScript(\n",
    "                        CrawlingJs\\\n",
    "                        .crawling_by_js['length_page']\n",
    "                    )\n",
    "                )\n",
    "        images = list(self.get_list_images())\n",
    "        time.sleep(3)\n",
    "\n",
    "        while images or friends:\n",
    "            if images:\n",
    "                self.user_db.insert_data(\n",
    "                    table=\"images\",\n",
    "                    specify_columns=['images'],\n",
    "                    values=[images.pop(0)]\n",
    "                )\n",
    "            if friends:\n",
    "                self.user_db.insert_data(\n",
    "                    table=\"friends\",\n",
    "                    specify_columns=['friends'],\n",
    "                    values=[friends.pop(0)]\n",
    "                )\n",
    "        list(self.user_db.run())"
   ]
  },
  {
   "cell_type": "code",
   "execution_count": 11,
   "metadata": {
    "colab": {},
    "colab_type": "code",
    "id": "CbgJRgcHoiwp"
   },
   "outputs": [
    {
     "output_type": "stream",
     "name": "stdout",
     "text": "['CREATE TABLE images (images TEXT, faces TEXT, result TEXT)', '']\n['CREATE TABLE friends (friends TEXT)', '']\n"
    }
   ],
   "source": [
    "p = Pers(web_ctrl, 'profile.php?id=100006220096058')\n",
    "p.create_userdb()"
   ]
  },
  {
   "cell_type": "code",
   "execution_count": 12,
   "metadata": {
    "colab": {},
    "colab_type": "code",
    "id": "7EBZoV1-oiwt"
   },
   "outputs": [
    {
     "output_type": "stream",
     "name": "stdout",
     "text": "['INSERT INTO images (images) VALUES(?)', ['/home/shane/Desktop/Hot-Girl-Detection/./dataset/images/206x206__93912463_2524172607800051_6003943755265081344_o.jpg']]\n['INSERT INTO friends (friends) VALUES(?)', ['conss.thop.5']]\n['INSERT INTO images (images) VALUES(?)', ['/home/shane/Desktop/Hot-Girl-Detection/./dataset/images/206x206__90242782_2501530810064231_4614325275830779904_o.jpg']]\n['INSERT INTO friends (friends) VALUES(?)', ['Tuan.Linh0504']]\n['INSERT INTO images (images) VALUES(?)', ['/home/shane/Desktop/Hot-Girl-Detection/./dataset/images/206x206__90241631_2501530700064242_8981782209513914368_o.jpg']]\n['INSERT INTO friends (friends) VALUES(?)', ['ren.numadau']]\n['INSERT INTO images (images) VALUES(?)', ['/home/shane/Desktop/Hot-Girl-Detection/./dataset/images/206x206__86189536_2463953377155308_2774104133647466496_o.jpg']]\n['INSERT INTO friends (friends) VALUES(?)', ['YTRUNGHRA']]\n['INSERT INTO images (images) VALUES(?)', ['/home/shane/Desktop/Hot-Girl-Detection/./dataset/images/206x206__82821062_2453029414914371_8957357391926525952_o.jpg']]\n['INSERT INTO friends (friends) VALUES(?)', ['thanha.buii']]\n['INSERT INTO images (images) VALUES(?)', ['/home/shane/Desktop/Hot-Girl-Detection/./dataset/images/206x206__80020605_2424030204480959_8088495974781026304_o.jpg']]\n['INSERT INTO friends (friends) VALUES(?)', ['profile.php?id=100004772115245']]\n['INSERT INTO images (images) VALUES(?)', ['/home/shane/Desktop/Hot-Girl-Detection/./dataset/images/206x206__79872493_2417515708465742_7612342929545232384_o.jpg']]\n['INSERT INTO friends (friends) VALUES(?)', ['lamdactrung']]\n['INSERT INTO images (images) VALUES(?)', ['/home/shane/Desktop/Hot-Girl-Detection/./dataset/images/206x206__78683013_2403305239886789_1325334454079586304_o.jpg']]\n['INSERT INTO friends (friends) VALUES(?)', ['profile.php?id=100009912665265']]\n['INSERT INTO images (images) VALUES(?)', ['/home/shane/Desktop/Hot-Girl-Detection/./dataset/images/206x206__78764320_2403305169886796_4564574281639395328_o.jpg']]\n['INSERT INTO friends (friends) VALUES(?)', ['hongdiep.lethi.756']]\n['INSERT INTO images (images) VALUES(?)', ['/home/shane/Desktop/Hot-Girl-Detection/./dataset/images/206x206__79505939_2403305076553472_6885349564996386816_o.jpg']]\n['INSERT INTO friends (friends) VALUES(?)', ['hbda2309']]\n['INSERT INTO images (images) VALUES(?)', ['/home/shane/Desktop/Hot-Girl-Detection/./dataset/images/206x206__78543659_2403304956553484_4241776054479355904_o.jpg']]\n['INSERT INTO friends (friends) VALUES(?)', ['sinh.phamhong.75']]\n['INSERT INTO images (images) VALUES(?)', ['/home/shane/Desktop/Hot-Girl-Detection/./dataset/images/206x206__73119570_2396736767210303_1747781634813329408_o.jpg']]\n['INSERT INTO friends (friends) VALUES(?)', ['khanhly.tranthi.1069']]\n['INSERT INTO images (images) VALUES(?)', ['/home/shane/Desktop/Hot-Girl-Detection/./dataset/images/206x206__78036972_2396736670543646_1564674452996751360_o.jpg']]\n['INSERT INTO friends (friends) VALUES(?)', ['xon.xi.9279']]\n['INSERT INTO images (images) VALUES(?)', ['/home/shane/Desktop/Hot-Girl-Detection/./dataset/images/206x206__78180261_2396736277210352_5673144708407230464_o.jpg']]\n['INSERT INTO friends (friends) VALUES(?)', ['lienkhoa1812']]\n['INSERT INTO images (images) VALUES(?)', ['/home/shane/Desktop/Hot-Girl-Detection/./dataset/images/206x206__76661260_2394896137394366_8320095252924858368_o.jpg']]\n['INSERT INTO friends (friends) VALUES(?)', ['thuy.rose.520']]\n['INSERT INTO images (images) VALUES(?)', ['/home/shane/Desktop/Hot-Girl-Detection/./dataset/images/206x206__71649190_2394526130764700_4881694755307651072_o.jpg']]\n['INSERT INTO friends (friends) VALUES(?)', ['quynh.giang.14855377']]\n['INSERT INTO images (images) VALUES(?)', ['/home/shane/Desktop/Hot-Girl-Detection/./dataset/images/206x206__75453570_2393531287530851_872451691977375744_o.jpg']]\n['INSERT INTO friends (friends) VALUES(?)', ['Thanhkiu1001']]\n['INSERT INTO images (images) VALUES(?)', ['/home/shane/Desktop/Hot-Girl-Detection/./dataset/images/206x206__77191080_2393531157530864_1885429005868335104_o.jpg']]\n['INSERT INTO friends (friends) VALUES(?)', ['baolam.kieu']]\n['INSERT INTO images (images) VALUES(?)', ['/home/shane/Desktop/Hot-Girl-Detection/./dataset/images/206x206__76688916_2393531084197538_8287752800566247424_o.jpg']]\n['INSERT INTO friends (friends) VALUES(?)', ['hanh.be.54584982']]\n['INSERT INTO images (images) VALUES(?)', ['/home/shane/Desktop/Hot-Girl-Detection/./dataset/images/206x206__74834479_2393530994197547_1883893168512958464_o.jpg']]\n['INSERT INTO friends (friends) VALUES(?)', ['hatham99']]\n['INSERT INTO images (images) VALUES(?)', ['/home/shane/Desktop/Hot-Girl-Detection/./dataset/images/206x206__75098757_2393530900864223_4260432546304622592_o.jpg']]\n['INSERT INTO friends (friends) VALUES(?)', ['profile.php?id=100010963038814']]\n['INSERT INTO images (images) VALUES(?)', ['/home/shane/Desktop/Hot-Girl-Detection/./dataset/images/206x206__77295641_2393530714197575_6752347085107888128_o.jpg']]\n['INSERT INTO friends (friends) VALUES(?)', ['le.nghia.3538039']]\n['INSERT INTO images (images) VALUES(?)', ['/home/shane/Desktop/Hot-Girl-Detection/./dataset/images/206x206__77020442_2393530480864265_7803728450371452928_o.jpg']]\n['INSERT INTO friends (friends) VALUES(?)', ['Axittiti']]\n['INSERT INTO images (images) VALUES(?)', ['/home/shane/Desktop/Hot-Girl-Detection/./dataset/images/206x206__75513385_2393530410864272_2629466720498089984_o.jpg']]\n['INSERT INTO friends (friends) VALUES(?)', ['hy.phong.507']]\n['INSERT INTO images (images) VALUES(?)', ['/home/shane/Desktop/Hot-Girl-Detection/./dataset/images/206x206__74287746_2393530347530945_3804873431166484480_o.jpg']]\n['INSERT INTO friends (friends) VALUES(?)', ['SoulOfLife18']]\n['INSERT INTO images (images) VALUES(?)', ['/home/shane/Desktop/Hot-Girl-Detection/./dataset/images/206x206__76659853_2393530180864295_1446232702515675136_o.jpg']]\n['INSERT INTO friends (friends) VALUES(?)', ['bachcuc.1004']]\n['INSERT INTO images (images) VALUES(?)', ['/home/shane/Desktop/Hot-Girl-Detection/./dataset/images/206x206__75429674_2393530097530970_8283153818305167360_o.jpg']]\n['INSERT INTO friends (friends) VALUES(?)', ['vomac.lamuyen']]\n['INSERT INTO images (images) VALUES(?)', ['/home/shane/Desktop/Hot-Girl-Detection/./dataset/images/206x206__77153671_2393530044197642_9071451553172291584_o.jpg']]\n['INSERT INTO friends (friends) VALUES(?)', ['nguyen.ngungo.77']]\n['INSERT INTO images (images) VALUES(?)', ['/home/shane/Desktop/Hot-Girl-Detection/./dataset/images/206x206__76612220_2393529980864315_6290562041212043264_o.jpg']]\n['INSERT INTO friends (friends) VALUES(?)', ['nhock.kunkun']]\n['INSERT INTO images (images) VALUES(?)', ['/home/shane/Desktop/Hot-Girl-Detection/./dataset/images/206x206__75513326_2393529887530991_2763789164095733760_o.jpg']]\n['INSERT INTO friends (friends) VALUES(?)', ['profile.php?id=100009530955210']]\n['INSERT INTO images (images) VALUES(?)', ['/home/shane/Desktop/Hot-Girl-Detection/./dataset/images/206x206__77248721_2393529744197672_8748731511596908544_o.jpg']]\n['INSERT INTO friends (friends) VALUES(?)', ['profile.php?id=100010242690334']]\n['INSERT INTO images (images) VALUES(?)', ['/home/shane/Desktop/Hot-Girl-Detection/./dataset/images/206x206__69515285_2393529604197686_4348169528341954560_o.jpg']]\n['INSERT INTO friends (friends) VALUES(?)', ['profile.php?id=100003930358179']]\n['INSERT INTO images (images) VALUES(?)', ['/home/shane/Desktop/Hot-Girl-Detection/./dataset/images/206x206__76710895_2393529544197692_7431291486580244480_o.jpg']]\n['INSERT INTO friends (friends) VALUES(?)', ['profile.php?id=100013043715995']]\n['INSERT INTO images (images) VALUES(?)', ['/home/shane/Desktop/Hot-Girl-Detection/./dataset/images/206x206__78118763_2393529470864366_8327896219204452352_o.jpg']]\n['INSERT INTO friends (friends) VALUES(?)', ['anhthao.it']]\n['INSERT INTO images (images) VALUES(?)', ['/home/shane/Desktop/Hot-Girl-Detection/./dataset/images/206x206__78486141_2393529384197708_5241353173486010368_o.jpg']]\n['INSERT INTO friends (friends) VALUES(?)', ['tronpimina']]\n['INSERT INTO images (images) VALUES(?)', ['/home/shane/Desktop/Hot-Girl-Detection/./dataset/images/206x206__74381205_2381191818764798_1338244090684243968_o.jpg']]\n['INSERT INTO friends (friends) VALUES(?)', ['profile.php?id=100024824003332']]\n['INSERT INTO images (images) VALUES(?)', ['/home/shane/Desktop/Hot-Girl-Detection/./dataset/images/206x206__73304567_2372083466342300_804862504604794880_o.jpg']]\n['INSERT INTO friends (friends) VALUES(?)', ['ledinhtuan1243']]\n['INSERT INTO images (images) VALUES(?)', ['/home/shane/Desktop/Hot-Girl-Detection/./dataset/images/206x206__72888498_2362994040584576_4372731505709940736_o.jpg']]\n['INSERT INTO friends (friends) VALUES(?)', ['barato96']]\n['INSERT INTO images (images) VALUES(?)', ['/home/shane/Desktop/Hot-Girl-Detection/./dataset/images/206x206__72382001_2362994003917913_7311358033827725312_o.jpg']]\n['INSERT INTO friends (friends) VALUES(?)', ['thaohuynh15122020']]\n['INSERT INTO images (images) VALUES(?)', ['/home/shane/Desktop/Hot-Girl-Detection/./dataset/images/206x206__72292787_2360517017498945_8301860741636423680_o.jpg']]\n['INSERT INTO friends (friends) VALUES(?)', ['thuongg.nguyen.1110']]\n['INSERT INTO friends (friends) VALUES(?)', ['heo.huynh.9279']]\n['INSERT INTO friends (friends) VALUES(?)', ['nu.kyn']]\n['INSERT INTO friends (friends) VALUES(?)', ['hieu.ta.376']]\n['INSERT INTO friends (friends) VALUES(?)', ['JinChu69']]\n['INSERT INTO friends (friends) VALUES(?)', ['bii.nga.90']]\n['INSERT INTO friends (friends) VALUES(?)', ['nhoc.hamchoi.963']]\n['INSERT INTO friends (friends) VALUES(?)', ['chang.sugar.5']]\n['INSERT INTO friends (friends) VALUES(?)', ['profile.php?id=100007157385412']]\n['INSERT INTO friends (friends) VALUES(?)', ['chouchou250401']]\n['INSERT INTO friends (friends) VALUES(?)', ['them.nguyenduong.5']]\n['INSERT INTO friends (friends) VALUES(?)', ['Dan.hai19']]\n['INSERT INTO friends (friends) VALUES(?)', ['trieuvy.pham.1800']]\n['INSERT INTO friends (friends) VALUES(?)', ['profile.php?id=100035548118857']]\n['INSERT INTO friends (friends) VALUES(?)', ['NTDH.2017']]\n['INSERT INTO friends (friends) VALUES(?)', ['profile.php?id=100013373012000']]\n['INSERT INTO friends (friends) VALUES(?)', ['profile.php?id=100004316854165']]\n['INSERT INTO friends (friends) VALUES(?)', ['profile.php?id=100036145900115']]\n['INSERT INTO friends (friends) VALUES(?)', ['profile.php?id=100025341851315']]\n['INSERT INTO friends (friends) VALUES(?)', ['ty.su.52012548']]\n['INSERT INTO friends (friends) VALUES(?)', ['layla.220597']]\n"
    }
   ],
   "source": [
    "p.save(\n",
    "    n_friends=6,\n",
    "    n_images=6\n",
    ")"
   ]
  },
  {
   "cell_type": "code",
   "execution_count": null,
   "metadata": {},
   "outputs": [],
   "source": []
  }
 ],
 "metadata": {
  "colab": {
   "name": "Copy of Run.ipynb",
   "provenance": [
    {
     "file_id": "https://github.com/shanenoi/Hot-Girl-Detection/blob/master/Run.ipynb",
     "timestamp": 1587538002614
    }
   ]
  },
  "kernelspec": {
   "display_name": "Python 3.8.2 64-bit",
   "language": "python",
   "name": "python38264bitddde7217bbd941f196092dfb4831f61f"
  },
  "language_info": {
   "codemirror_mode": {
    "name": "ipython",
    "version": 3
   },
   "file_extension": ".py",
   "mimetype": "text/x-python",
   "name": "python",
   "nbconvert_exporter": "python",
   "pygments_lexer": "ipython3",
   "version": "3.8.2-final"
  }
 },
 "nbformat": 4,
 "nbformat_minor": 4
}