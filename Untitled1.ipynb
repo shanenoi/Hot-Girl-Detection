{
 "cells": [
  {
   "cell_type": "code",
   "execution_count": 2,
   "metadata": {},
   "outputs": [],
   "source": [
    "from selenium import webdriver\n",
    "import requests"
   ]
  },
  {
   "cell_type": "code",
   "execution_count": 3,
   "metadata": {},
   "outputs": [],
   "source": [
    "driver_link = '/home/shanenoi/Desktop/Selenium/WebDriver/chromedriver'"
   ]
  },
  {
   "cell_type": "code",
   "execution_count": 4,
   "metadata": {},
   "outputs": [],
   "source": [
    "driver = webdriver.Chrome(driver_link)"
   ]
  },
  {
   "cell_type": "code",
   "execution_count": 5,
   "metadata": {},
   "outputs": [],
   "source": [
    "user = 'tran.q.huy.71'"
   ]
  },
  {
   "cell_type": "code",
   "execution_count": 6,
   "metadata": {},
   "outputs": [],
   "source": [
    "driver.get('https://www.facebook.com/tran.q.huy.71')"
   ]
  },
  {
   "cell_type": "code",
   "execution_count": 17,
   "metadata": {},
   "outputs": [],
   "source": [
    "driver.get('https://www.facebook.com/{}/friends'.format(user))"
   ]
  },
  {
   "cell_type": "code",
   "execution_count": 19,
   "metadata": {},
   "outputs": [],
   "source": [
    "cookies = driver.get_cookies()"
   ]
  },
  {
   "cell_type": "code",
   "execution_count": 20,
   "metadata": {
    "collapsed": true,
    "jupyter": {
     "outputs_hidden": true
    }
   },
   "outputs": [
    {
     "data": {
      "text/plain": [
       "[{'domain': '.facebook.com',\n",
       "  'httpOnly': False,\n",
       "  'name': 'presence',\n",
       "  'path': '/',\n",
       "  'sameSite': 'None',\n",
       "  'secure': True,\n",
       "  'value': 'EDvF3EtimeF1586322428EuserFA21B49288601698A2EstateFDutF1586322428626CEchF_7bCC'},\n",
       " {'domain': '.facebook.com',\n",
       "  'expiry': 1649394378.605625,\n",
       "  'httpOnly': True,\n",
       "  'name': 'datr',\n",
       "  'path': '/',\n",
       "  'sameSite': 'None',\n",
       "  'secure': True,\n",
       "  'value': 'yFuNXrAC1aaRpI1zFGqL9LeX'},\n",
       " {'domain': '.facebook.com',\n",
       "  'expiry': 1594098374.572732,\n",
       "  'httpOnly': True,\n",
       "  'name': 'fr',\n",
       "  'path': '/',\n",
       "  'sameSite': 'None',\n",
       "  'secure': True,\n",
       "  'value': '19hlLUGHTu0xbo0RV.AWUrvvw_Gyc_bOPwMJwZXAFNC_o.BejVuu.1X.AAA.0.0.BejVvI.AWXTCnd8'},\n",
       " {'domain': '.facebook.com',\n",
       "  'expiry': 1617858375.572701,\n",
       "  'httpOnly': True,\n",
       "  'name': 'xs',\n",
       "  'path': '/',\n",
       "  'sameSite': 'None',\n",
       "  'secure': True,\n",
       "  'value': '41%3AbdyBAbDkOxhv9Q%3A2%3A1586322375%3A-1%3A-1'},\n",
       " {'domain': '.facebook.com',\n",
       "  'expiry': 1649394375.881439,\n",
       "  'httpOnly': True,\n",
       "  'name': 'sb',\n",
       "  'path': '/',\n",
       "  'sameSite': 'None',\n",
       "  'secure': True,\n",
       "  'value': 'x1uNXmcFkmvBSgkiApYDWc7-'},\n",
       " {'domain': '.facebook.com',\n",
       "  'expiry': 1586927498,\n",
       "  'httpOnly': False,\n",
       "  'name': 'wd',\n",
       "  'path': '/',\n",
       "  'sameSite': 'None',\n",
       "  'secure': True,\n",
       "  'value': '937x905'},\n",
       " {'domain': '.facebook.com',\n",
       "  'expiry': 1586412376.186879,\n",
       "  'httpOnly': True,\n",
       "  'name': 'spin',\n",
       "  'path': '/',\n",
       "  'sameSite': 'None',\n",
       "  'secure': True,\n",
       "  'value': 'r.1001956959_b.trunk_t.1586322376_s.1_v.2_'},\n",
       " {'domain': '.facebook.com',\n",
       "  'expiry': 1617858375.572651,\n",
       "  'httpOnly': False,\n",
       "  'name': 'c_user',\n",
       "  'path': '/',\n",
       "  'sameSite': 'None',\n",
       "  'secure': True,\n",
       "  'value': '100049288601698'}]"
      ]
     },
     "execution_count": 20,
     "metadata": {},
     "output_type": "execute_result"
    }
   ],
   "source": [
    "cookies"
   ]
  },
  {
   "cell_type": "code",
   "execution_count": 21,
   "metadata": {},
   "outputs": [],
   "source": [
    "temp = driver.execute_script('return document.getElementById(\"fb-timeline-cover-name\")')"
   ]
  },
  {
   "cell_type": "code",
   "execution_count": 24,
   "metadata": {},
   "outputs": [],
   "source": [
    "temp = driver.execute_script('return document.getElementsByClassName(\"fsl fwb fcb\")')"
   ]
  },
  {
   "cell_type": "code",
   "execution_count": 29,
   "metadata": {},
   "outputs": [],
   "source": [
    "a = temp[0].find_element_by_tag_name('a')"
   ]
  },
  {
   "cell_type": "code",
   "execution_count": 30,
   "metadata": {},
   "outputs": [
    {
     "data": {
      "text/plain": [
       "'https://www.facebook.com/khanhha190394?fref=profile_friend_list&hc_location=friends_tab'"
      ]
     },
     "execution_count": 30,
     "metadata": {},
     "output_type": "execute_result"
    }
   ],
   "source": [
    "a.get_attribute('href')"
   ]
  },
  {
   "cell_type": "code",
   "execution_count": 16,
   "metadata": {},
   "outputs": [],
   "source": [
    "class crawling_info(object):\n",
    "    \n",
    "    crawling_by_js = {\n",
    "        \"list_friend\": {\n",
    "            \"type\": \"list\",\n",
    "            \"function\": \"document.getElementsByClassName\",\n",
    "            \"value\": \"fsl fwb fcb\",\n",
    "            \"attribute\": \"getElementsByTagName('a')[0].getAttribute('href')\"\n",
    "        },\n",
    "        \"list_images\": {\n",
    "            \"type\": \"list\",\n",
    "            \"function\": \"document.getElementsByClassName\",\n",
    "            \"value\": \"uiMediaThumbImg\",\n",
    "            \"attribute\": \".getAttribute('style')\"\n",
    "        },\n",
    "        \"user_name\": {\n",
    "            \"type\": \"str\",\n",
    "            \"function\": \"document.getElementById\",\n",
    "            \"value\": \"fb-timeline-cover-name\",\n",
    "            \"attribute\": \"innerText\"\n",
    "        },\n",
    "    }\n",
    "    \n",
    "    default_link = {\n",
    "        \"list_friend\": \"https://www.facebook.com/{}/friends\",\n",
    "        \"list_images\": \"https://www.facebook.com/{}/photos\"\n",
    "    }\n",
    "    \n",
    "    @staticmethod\n",
    "    def convert_jsScript(meta):\n",
    "        if   meta['type'] == 'list':\n",
    "            return (\n",
    "                'temp = {}(\"{}\");\\n' +\n",
    "                'result = [];\\n'\n",
    "                'for(var i=0; i<temp.length; i++) {{\\n' +\n",
    "                '    result.push(temp[i].{})\\n' +\n",
    "                '}}\\n' +\n",
    "                'return result;'\n",
    "            ).format(\n",
    "                meta['function'],\n",
    "                meta['value'],\n",
    "                meta['attribute']\n",
    "            )\n",
    "        \n",
    "        elif meta['type'] == 'str':\n",
    "            return \"return {}({}).{}\".format(\n",
    "                meta['function'],\n",
    "                meta['value'],\n",
    "                meta['attribute']\n",
    "            )"
   ]
  },
  {
   "cell_type": "code",
   "execution_count": 17,
   "metadata": {},
   "outputs": [
    {
     "name": "stdout",
     "output_type": "stream",
     "text": [
      "temp = document.getElementsByClassName(\"fsl fwb fcb\");\n",
      "result = [];\n",
      "for(var i=0; i<temp.length; i++) {\n",
      "    result.push(temp[i].getElementsByTagName('a')[0].getAttribute('href'))\n",
      "}\n",
      "return result;\n"
     ]
    }
   ],
   "source": [
    "print(crawling_info.convert_jsScript(crawling_info.crawling_by_js['list_friend']))"
   ]
  },
  {
   "cell_type": "code",
   "execution_count": 18,
   "metadata": {},
   "outputs": [],
   "source": [
    "a = driver.execute_script(\"\"\"temp = document.getElementsByClassName(\"fsl fwb fcb\");\n",
    "result = [];\n",
    "for(var i=0; i<temp.length; i++) {\n",
    "    result.push(temp[i].getElementsByTagName('a')[0].getAttribute('href'))\n",
    "}\n",
    "return result;\n",
    "\n",
    "\"\"\")"
   ]
  },
  {
   "cell_type": "code",
   "execution_count": 19,
   "metadata": {},
   "outputs": [
    {
     "data": {
      "text/plain": [
       "['https://www.facebook.com/dinhhanh0808?fref=profile_friend_list&hc_location=friends_tab',\n",
       " 'https://www.facebook.com/cuongpv3000?fref=profile_friend_list&hc_location=friends_tab',\n",
       " 'https://www.facebook.com/nhocmuadong?fref=profile_friend_list&hc_location=friends_tab',\n",
       " 'https://www.facebook.com/thanhtungyew?fref=profile_friend_list&hc_location=friends_tab',\n",
       " 'https://www.facebook.com/Hahihihihihihihi?fref=profile_friend_list&hc_location=friends_tab',\n",
       " 'https://www.facebook.com/mrduydx?fref=profile_friend_list&hc_location=friends_tab',\n",
       " 'https://www.facebook.com/khanhha190394?fref=profile_friend_list&hc_location=friends_tab',\n",
       " 'https://www.facebook.com/mr.0x0d?fref=profile_friend_list&hc_location=friends_tab',\n",
       " 'https://www.facebook.com/nguyenthanhgiang3383?fref=profile_friend_list&hc_location=friends_tab',\n",
       " 'https://www.facebook.com/songohan136?fref=profile_friend_list&hc_location=friends_tab',\n",
       " 'https://www.facebook.com/ngomanhtung92?fref=profile_friend_list&hc_location=friends_tab',\n",
       " 'https://www.facebook.com/bienbien.it?fref=profile_friend_list&hc_location=friends_tab',\n",
       " 'https://www.facebook.com/athur.kiong?fref=profile_friend_list&hc_location=friends_tab',\n",
       " 'https://www.facebook.com/minh.mac.58?fref=profile_friend_list&hc_location=friends_tab',\n",
       " 'https://www.facebook.com/cuncu.nguyen?fref=profile_friend_list&hc_location=friends_tab',\n",
       " 'https://www.facebook.com/tranvantuan1110?fref=profile_friend_list&hc_location=friends_tab',\n",
       " 'https://www.facebook.com/tunght1990?fref=profile_friend_list&hc_location=friends_tab',\n",
       " 'https://www.facebook.com/thangvnit1983?fref=profile_friend_list&hc_location=friends_tab',\n",
       " 'https://www.facebook.com/profile.php?id=100005746382458&fref=profile_friend_list&hc_location=friends_tab',\n",
       " 'https://www.facebook.com/huonglantran145?fref=profile_friend_list&hc_location=friends_tab']"
      ]
     },
     "execution_count": 19,
     "metadata": {},
     "output_type": "execute_result"
    }
   ],
   "source": [
    "a"
   ]
  }
 ],
 "metadata": {
  "kernelspec": {
   "display_name": "Python 3",
   "language": "python",
   "name": "python3"
  },
  "language_info": {
   "codemirror_mode": {
    "name": "ipython",
    "version": 3
   },
   "file_extension": ".py",
   "mimetype": "text/x-python",
   "name": "python",
   "nbconvert_exporter": "python",
   "pygments_lexer": "ipython3",
   "version": "3.8.2"
  }
 },
 "nbformat": 4,
 "nbformat_minor": 4
}
