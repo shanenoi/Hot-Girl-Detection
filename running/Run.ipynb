{
 "cells": [
  {
   "cell_type": "code",
   "execution_count": 1,
   "metadata": {},
   "outputs": [],
   "source": [
    "from os import mkdir, getcwd\n",
    "from selenium import webdriver\n",
    "from tools_ import *\n",
    "from DataManagement import *\n",
    "\n",
    "import time"
   ]
  },
  {
   "cell_type": "code",
   "execution_count": 2,
   "metadata": {},
   "outputs": [],
   "source": [
    "user_account = {\n",
    "    \"email\": \"automail.robort@yandex.com\",\n",
    "    \"pass\": \"fGwk093oiVtdJPuc8z2wtFjGcvzSi6eonkvWTjZa8glIE6uYJdvLTJv9dJWJVDgMy68Bozma3kKGkWDw\"\n",
    "}"
   ]
  },
  {
   "cell_type": "code",
   "execution_count": 3,
   "metadata": {},
   "outputs": [],
   "source": [
    "def init_folder(name):\n",
    "    path = f'{getcwd()}/{name}'\n",
    "    try:\n",
    "        mkdir(path)\n",
    "    finally:\n",
    "        return path\n",
    "\n",
    "temp = init_folder('temp_00')\n",
    "users_folder = init_folder('storage')\n",
    "users_images = init_folder('images')"
   ]
  },
  {
   "cell_type": "code",
   "execution_count": 4,
   "metadata": {},
   "outputs": [],
   "source": [
    "options = webdriver.ChromeOptions()\n",
    "options.add_experimental_option(\"prefs\", { \n",
    "    \"profile.default_content_setting_values.notifications\": 1 \n",
    "})"
   ]
  },
  {
   "cell_type": "code",
   "execution_count": 5,
   "metadata": {},
   "outputs": [
    {
     "name": "stderr",
     "output_type": "stream",
     "text": [
      "<ipython-input-5-502859f25875>:1: DeprecationWarning: use options instead of chrome_options\n",
      "  driver = webdriver.Chrome(chrome_options=options, executable_path='/home/shanenoi/Desktop/Selenium/WebDriver/chromedriver')\n"
     ]
    }
   ],
   "source": [
    "driver = webdriver.Chrome(chrome_options=options, executable_path='/home/shanenoi/Desktop/Selenium/WebDriver/chromedriver')\n",
    "# driver = webdriver.Chrome('/home/shanenoi/Desktop/Selenium/WebDriver/chromedriver')"
   ]
  },
  {
   "cell_type": "code",
   "execution_count": 6,
   "metadata": {},
   "outputs": [],
   "source": [
    "web_ctrl = WebControl(driver)"
   ]
  },
  {
   "cell_type": "code",
   "execution_count": 7,
   "metadata": {},
   "outputs": [],
   "source": [
    "# Login\n",
    "web_ctrl.driver.get('https://facebook.com')\n",
    "\n",
    "mail_holder = web_ctrl.driver.find_element_by_id('email')\n",
    "mail_holder.clear()\n",
    "mail_holder.send_keys(user_account['email'])\n",
    "\n",
    "pass_holder = web_ctrl.driver.find_element_by_id('pass')\n",
    "pass_holder.clear()\n",
    "pass_holder.send_keys(user_account['pass'])\n",
    "\n",
    "web_ctrl.driver.find_element_by_id('u_0_b').click()"
   ]
  },
  {
   "cell_type": "code",
   "execution_count": 8,
   "metadata": {},
   "outputs": [],
   "source": [
    "current_task = CurrentTask(f'{temp}/user')"
   ]
  },
  {
   "cell_type": "code",
   "execution_count": 9,
   "metadata": {},
   "outputs": [],
   "source": [
    "sql = SQL\n",
    "DB_ARCHITECTURE = [\n",
    "    'main',\n",
    "    {\n",
    "        \"friends\": [\n",
    "            sql.TYPE_TEXT\n",
    "        ],\n",
    "        \"images\": [\n",
    "            sql.TYPE_TEXT\n",
    "        ]\n",
    "    }\n",
    "]"
   ]
  },
  {
   "cell_type": "code",
   "execution_count": 10,
   "metadata": {},
   "outputs": [],
   "source": [
    "class Pers(object):\n",
    "    \n",
    "    def __init__(self, web_control, user_id):\n",
    "        self.user_db = DataBase(f'{users_folder}/{user_id}.db')\n",
    "        self.user_id = user_id\n",
    "        self.web_ctrl = web_control\n",
    "    \n",
    "    def get_user_name(self):\n",
    "        return self.web_ctrl.driver.execute_script(\n",
    "            CrawlingJs\\\n",
    "            .convert_jsScript(\n",
    "                CrawlingJs\\\n",
    "                .crawling_by_js['user_name']\n",
    "            )\n",
    "        )\n",
    "    \n",
    "    def load_more(self):\n",
    "        self.web_ctrl.driver.execute_script(\n",
    "            CrawlingJs\\\n",
    "            .convert_jsScript(\n",
    "                CrawlingJs\\\n",
    "                .crawling_by_js['scroll_to_the_end_of_page']\n",
    "            )\n",
    "        )\n",
    "        \n",
    "    def get_list_friends(self):\n",
    "        self.web_ctrl.driver.get(\n",
    "            CrawlingJs\\\n",
    "            .default_link['list_friends']\\\n",
    "            .format(self.user_id)\n",
    "        )\n",
    "        return map(\n",
    "            Person.get_friend_name,\n",
    "            self.web_ctrl.driver.execute_script(\n",
    "                CrawlingJs\\\n",
    "                .convert_jsScript(\n",
    "                    CrawlingJs\\\n",
    "                    .crawling_by_js['list_friends']\n",
    "                )\n",
    "            )\n",
    "        )\n",
    "    \n",
    "    def get_list_images(self):\n",
    "        self.web_ctrl.driver.get(\n",
    "            CrawlingJs\\\n",
    "            .default_link['list_images']\\\n",
    "            .format(self.user_id)\n",
    "        )\n",
    "        return map(\n",
    "            self.download_image,\n",
    "            self.web_ctrl.driver.execute_script(\n",
    "                CrawlingJs\\\n",
    "                .convert_jsScript(\n",
    "                    CrawlingJs\\\n",
    "                    .crawling_by_js['list_images']\n",
    "                )\n",
    "            )\n",
    "        )\n",
    "    \n",
    "    def download_image(self, url):\n",
    "        values = Person.get_image_name_and_size(url)\n",
    "        internal_path = f'{users_images}/{values[0]}'\n",
    "        if not current_task.isdone(values[0]):\n",
    "            with open(internal_path, 'wb') as imf:\n",
    "                imf.write(self.web_ctrl.get_content(values[1]))\n",
    "            current_task.add(values[0])\n",
    "        return internal_path\n",
    "    \n",
    "    def create_userdb(self):\n",
    "        if not current_task.isdone(self.user_id):\n",
    "            self.user_db.create_table(\n",
    "                name=DB_ARCHITECTURE[0],\n",
    "                architecture=DB_ARCHITECTURE[1]\n",
    "            )\n",
    "            current_task.add(self.user_id)\n",
    "        # because this function will return generator\n",
    "        list(self.user_db.run())\n",
    "            \n",
    "    def save(self, n_friends=0, n_images=0):\n",
    "        \"\"\"\n",
    "        [+] n_friends: the number of scrolling to the bottom of friends page\n",
    "        [+] n_images: the number of scrolling to the bottom of images page\n",
    "        \"\"\"\n",
    "        self.web_ctrl.driver.get(\n",
    "            CrawlingJs\\\n",
    "            .default_link['list_friends']\\\n",
    "            .format(self.user_id)\n",
    "        )\n",
    "        current = self.web_ctrl.driver.execute_script(\n",
    "                CrawlingJs\\\n",
    "                .convert_jsScript(\n",
    "                    CrawlingJs\\\n",
    "                    .crawling_by_js['length_page']\n",
    "                )\n",
    "            )\n",
    "        for i in range(n_friends):\n",
    "            while (self.web_ctrl.driver.execute_script(\n",
    "                    CrawlingJs\\\n",
    "                    .convert_jsScript(\n",
    "                        CrawlingJs\\\n",
    "                        .crawling_by_js['length_page']\n",
    "                    )\n",
    "                ) == current):\n",
    "                self.web_ctrl.driver.execute_script(\n",
    "                    CrawlingJs\\\n",
    "                    .convert_jsScript(\n",
    "                        CrawlingJs\\\n",
    "                        .crawling_by_js['scroll_to_the_end_of_page']\n",
    "                    )\n",
    "                )\n",
    "        \n",
    "        self.web_ctrl.driver.get(\n",
    "            CrawlingJs\\\n",
    "            .default_link['list_images']\\\n",
    "            .format(self.user_id)\n",
    "        )\n",
    "        current = self.web_ctrl.driver.execute_script(\n",
    "                CrawlingJs\\\n",
    "                .convert_jsScript(\n",
    "                    CrawlingJs\\\n",
    "                    .crawling_by_js['length_page']\n",
    "                )\n",
    "            )\n",
    "        for i in range(n_images):\n",
    "            while (self.web_ctrl.driver.execute_script(\n",
    "                    CrawlingJs\\\n",
    "                    .convert_jsScript(\n",
    "                        CrawlingJs\\\n",
    "                        .crawling_by_js['length_page']\n",
    "                    )\n",
    "                ) == current):\n",
    "                self.web_ctrl.driver.execute_script(\n",
    "                    CrawlingJs\\\n",
    "                    .convert_jsScript(\n",
    "                        CrawlingJs\\\n",
    "                        .crawling_by_js['scroll_to_the_end_of_page']\n",
    "                    )\n",
    "                )\n",
    "                \n",
    "        images = list(self.get_list_images())\n",
    "        friends = list(self.get_list_friends())\n",
    "        while images or friends:\n",
    "            if images:\n",
    "                self.user_db.insert_data(\n",
    "                    table=DB_ARCHITECTURE[0],\n",
    "                    specify_columns=['images'],\n",
    "                    values=[images.pop(0)]\n",
    "                )\n",
    "            if friends:\n",
    "                self.user_db.insert_data(\n",
    "                    table=DB_ARCHITECTURE[0],\n",
    "                    specify_columns=['friends'],\n",
    "                    values=[friends.pop(0)]\n",
    "                )\n",
    "        list(self.user_db.run())"
   ]
  },
  {
   "cell_type": "code",
   "execution_count": 14,
   "metadata": {},
   "outputs": [],
   "source": [
    "p = Pers(web_ctrl, 'tran.q.huy.71')\n",
    "p.create_userdb()"
   ]
  },
  {
   "cell_type": "code",
   "execution_count": null,
   "metadata": {},
   "outputs": [],
   "source": [
    "p.save()"
   ]
  },
  {
   "cell_type": "code",
   "execution_count": null,
   "metadata": {},
   "outputs": [],
   "source": []
  }
 ],
 "metadata": {
  "kernelspec": {
   "display_name": "Python 3",
   "language": "python",
   "name": "python3"
  },
  "language_info": {
   "codemirror_mode": {
    "name": "ipython",
    "version": 3
   },
   "file_extension": ".py",
   "mimetype": "text/x-python",
   "name": "python",
   "nbconvert_exporter": "python",
   "pygments_lexer": "ipython3",
   "version": "3.8.2"
  }
 },
 "nbformat": 4,
 "nbformat_minor": 4
}
